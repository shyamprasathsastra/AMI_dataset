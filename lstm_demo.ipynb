{
 "cells": [
  {
   "cell_type": "code",
   "execution_count": 1,
   "metadata": {},
   "outputs": [
    {
     "name": "stdout",
     "output_type": "stream",
     "text": [
      "[[7.00000000e+00 2.41000000e+02 1.42200000e+03 4.91100000e+03\n",
      "  1.00000000e+00]\n",
      " [7.00000000e+00 2.41000000e+02 1.42200000e+03 4.91800000e+03\n",
      "  1.00000000e+00]\n",
      " [7.00000000e+00 2.41000000e+02 1.42200000e+03 4.92500000e+03\n",
      "  1.00000000e+00]\n",
      " ...\n",
      " [9.61702128e+00 1.83000000e+02 1.39500000e+03 2.55057447e+03\n",
      "  0.00000000e+00]\n",
      " [9.64539007e+00 1.83000000e+02 1.30100000e+03 2.38608936e+03\n",
      "  0.00000000e+00]\n",
      " [9.90070922e+00 1.83000000e+02 1.30200000e+03 2.39346383e+03\n",
      "  0.00000000e+00]]\n",
      "             0    1     2            3  4\n",
      "0     7.000000  241  1422  4911.000000  1\n",
      "1     7.000000  241  1422  4918.000000  1\n",
      "2     7.000000  241  1422  4925.000000  1\n",
      "3     7.000000  241  1422  4931.000000  1\n",
      "4     7.000000  241  1422  4938.000000  1\n",
      "...        ...  ...   ...          ... ..\n",
      "3208  9.851064  183  1315  2389.382979  0\n",
      "3209  9.929078  183  1395  2542.659574  0\n",
      "3210  9.617021  183  1395  2550.574468  0\n",
      "3211  9.645390  183  1301  2386.089362  0\n",
      "3212  9.900709  183  1302  2393.463830  0\n",
      "\n",
      "[3213 rows x 5 columns]\n",
      "[[   7.          241.         1422.         4911.        ]\n",
      " [   7.          241.         1422.         4918.        ]\n",
      " [   7.          241.         1422.         4925.        ]\n",
      " ...\n",
      " [   9.61702128  183.         1395.         2550.574468  ]\n",
      " [   9.64539007  183.         1301.         2386.089362  ]\n",
      " [   9.90070922  183.         1302.         2393.46383   ]]\n",
      "[1. 1. 1. ... 0. 0. 0.]\n",
      "Smaller: 100.00% (0.00%)\n"
     ]
    }
   ],
   "source": [
    "# Binary Classification with AMI Dataset: Standardized Smaller\n",
    "import pandas as pd\n",
    "from keras.models import Sequential\n",
    "from keras.layers import Dense\n",
    "from scikeras.wrappers import KerasClassifier\n",
    "from sklearn.model_selection import cross_val_score\n",
    "from sklearn.preprocessing import LabelEncoder\n",
    "from sklearn.model_selection import StratifiedKFold\n",
    "from sklearn.preprocessing import StandardScaler\n",
    "from sklearn.pipeline import Pipeline\n",
    "# load dataset\n",
    "dataframe = pd.read_csv(\"train_test.csv\", header=None)\n",
    "dataset = dataframe.values\n",
    "print(dataset)\n",
    "print(dataframe)\n",
    "# split into input (X) and output (Y) variables\n",
    "X = dataset[:,0:4].astype(float)\n",
    "Y = dataset[:,4]\n",
    "print(X)\n",
    "print(Y)\n",
    "# encode class values as integers\n",
    "encoder = LabelEncoder()\n",
    "encoder.fit(Y)\n",
    "encoded_Y = encoder.transform(Y)\n",
    "# smaller model\n",
    "def create_smaller():\n",
    "\t# create model\n",
    "\tmodel = Sequential()\n",
    "\tmodel.add(Dense(30, input_shape=(4,), activation='tanh'))\n",
    "\tmodel.add(Dense(1, activation='sigmoid'))\n",
    "\t# Compile model\n",
    "\tmodel.compile(loss='binary_crossentropy', optimizer='adam', metrics=['accuracy'])\n",
    "\treturn model\n",
    "estimators = []\n",
    "estimators.append(('standardize', StandardScaler()))\n",
    "estimators.append(('mlp', KerasClassifier(model=create_smaller, epochs=100, batch_size=5, verbose=0)))\n",
    "pipeline = Pipeline(estimators)\n",
    "kfold = StratifiedKFold(n_splits=10, shuffle=True)\n",
    "results = cross_val_score(pipeline, X, encoded_Y, cv=kfold)\n",
    "print(\"Smaller: %.2f%% (%.2f%%)\" % (results.mean()*100, results.std()*100))"
   ]
  }
 ],
 "metadata": {
  "kernelspec": {
   "display_name": "Python 3.10.4 64-bit",
   "language": "python",
   "name": "python3"
  },
  "language_info": {
   "codemirror_mode": {
    "name": "ipython",
    "version": 3
   },
   "file_extension": ".py",
   "mimetype": "text/x-python",
   "name": "python",
   "nbconvert_exporter": "python",
   "pygments_lexer": "ipython3",
   "version": "3.10.4"
  },
  "orig_nbformat": 4,
  "vscode": {
   "interpreter": {
    "hash": "02096db940dfe7e30e8d20f5b0c137439653ece9ee51489d39dec1134064af99"
   }
  }
 },
 "nbformat": 4,
 "nbformat_minor": 2
}
